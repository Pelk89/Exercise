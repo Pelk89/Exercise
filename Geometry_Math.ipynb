{
 "cells": [
  {
   "cell_type": "markdown",
   "metadata": {
    "code_folding": []
   },
   "source": [
    "## Circle, Square, Sieves of Eratosthenes\n",
    "\n",
    "\n",
    "\n",
    "\n",
    "Execute single cell with \"*strg + enter*\""
   ]
  },
  {
   "cell_type": "code",
   "execution_count": 381,
   "metadata": {},
   "outputs": [],
   "source": [
    "class Circle():\n",
    "    \"\"\"Circle Class with\n",
    "       getPerimeter()\n",
    "       getArea()\n",
    "       isInside(x,y, x_coord, y_coord, plot_=True)       \n",
    "    \"\"\"\n",
    "    \n",
    "    def __init__(self, r_):\n",
    "        self.radius_ = r_\n",
    "        \n",
    "    def getPerimeter(self):\n",
    "        return 2*self.radius_*3.14\n",
    "\n",
    "    def getArea(self):\n",
    "        return self.radius_**2*3.14  \n",
    "            \n",
    "    def plot_circle(self):\n",
    "        from matplotlib.patches import Circle\n",
    "        import matplotlib.pyplot as plt\n",
    "\n",
    "        fig_, ax_ = plt.subplots(1)\n",
    "        circle_ = Circle((self.x_coord_circle_ ,self.y_coord_circle_),\n",
    "                         self.radius_, facecolor='None', edgecolor='r')\n",
    "        ax_.add_patch(circle_)\n",
    "        plt.axis(\"equal\")\n",
    "        plt.scatter(self.x_ ,self.y_ )\n",
    "        plt.grid(linestyle='--')\n",
    "    \n",
    "    def isInside(self, x_, y_, x_coord_circle_=0, y_coord_circle_=0, plot_=True):\n",
    "        self.x_ = x_\n",
    "        self.y_ = y_\n",
    "        self.plot_ = plot_\n",
    "        self.x_coord_circle_ = x_coord_circle_\n",
    "        self.y_coord_circle_ = y_coord_circle_        \n",
    "        d_dist_center_x_ = self.x_ - self.x_coord_circle_\n",
    "        d_dist_center_y_ = self.y_ - self.y_coord_circle_\n",
    "\n",
    "        \n",
    "\n",
    "        # Formula Pythagoras: a^2 + b^2 = c^2 \n",
    "        # Distance Center = radius\n",
    "        # radius**2 == c^2 --> point inside circle \n",
    "        # Source = https://www.youtube.com/watch?v=S6BHQMk8C_A        \n",
    "        if ((d_dist_center_x_**2 + d_dist_center_y_**2) <= self.radius_**2):\n",
    "            if self.plot_ == True:\n",
    "                self.plot_circle()                \n",
    "            return True, print('Point [{:.1f}, {:.1f}] lies inside circle'.format(self.x_,  self.y_)) \n",
    "        else:\n",
    "            if self.plot_ == True:\n",
    "                self.plot_circle()\n",
    "            return False, print('Point [{:.1f}, {:.1f}] lies outside circle' .format(self.x_,  self.y_))\n",
    "        \n",
    "    def fitsInsideCircle(self, length_):\n",
    "        \n",
    "        if Square(length_).getArea() > self.getArea():\n",
    "            return True, print('Square does not fit in circle')\n",
    "        else:\n",
    "             return False, print('Square does fit in circle')       \n",
    "        "
   ]
  },
  {
   "cell_type": "code",
   "execution_count": 382,
   "metadata": {},
   "outputs": [],
   "source": [
    "class Square():\n",
    "    \"\"\"Square Class with\n",
    "       getPerimeter()\n",
    "       getArea()\n",
    "       isInside(x,y, x_coord, y_coord, plot_=True)\n",
    "    \"\"\"\n",
    "    \n",
    "    def __init__(self, l_):\n",
    "        self.length_ = l_\n",
    "        \n",
    "    def getPerimeter(self):\n",
    "        return self.length_*4\n",
    "\n",
    "    def getArea(self):\n",
    "        return self.length_**2\n",
    "            \n",
    "    def plot_square(self):\n",
    "        from matplotlib.patches import Rectangle\n",
    "        import matplotlib.pyplot as plt\n",
    "\n",
    "        fig_, ax_ = plt.subplots(1)\n",
    "        rectangle_ = Rectangle((self.x_coord_square_ ,self.y_coord_square_),width=self.length_, height=self.length_,\n",
    "                               edgecolor='r',facecolor='none')\n",
    "        \n",
    "        ax_.add_patch(rectangle_)\n",
    "        plt.axis(\"equal\")\n",
    "        plt.scatter(self.x_ ,self.y_ )\n",
    "        plt.grid(linestyle='--')\n",
    "    \n",
    "    def isInside(self, x_, y_, x_coord_square_=0, y_coord_square_=0, plot_=True):\n",
    "        import numpy as np\n",
    "  \n",
    "        self.x_ = x_\n",
    "        self.y_ = y_\n",
    "        self.plot_ = plot_\n",
    "        self.x_coord_square_ = x_coord_square_ \n",
    "        self.y_coord_square_ = y_coord_square_ \n",
    "        \n",
    "        \n",
    "        x1_bt_left_ = self.x_coord_square_ - 0.5*self.length_\n",
    "        y1_bt_left_ = self.y_coord_square_ - 0.5*self.length_        \n",
    "        x2_tp_right_ = self.x_coord_square_ + 0.5*self.length_\n",
    "        y2_tp_right_ = self.y_coord_square_ + 0.5*self.length_\n",
    "        \n",
    "        \n",
    "        # Point lies within Square if x-coord, y-coord lies within range of \n",
    "        # [x1_bt_left_, y1_bt_left_] and [x2_tp_right_, y2_tp_right_]\n",
    "        # Source = https://www.geeksforgeeks.org/check-if-a-point-lies-on-or-inside-a-rectangle-set-2/           \n",
    "        \n",
    "        if (self.x_ > x1_bt_left_ and self.x_ < x2_tp_right_ and \n",
    "            self.y_  > y1_bt_left_ and self.y_ < y2_tp_right_):\n",
    "            if self.plot_ == True:\n",
    "                self.plot_square() \n",
    "            return True, print('Point [{:.1f}, {:.1f}] lies inside square'.format(self.x_,  self.y_))               \n",
    "        else :\n",
    "            if self.plot_ == True:\n",
    "                self.plot_square() \n",
    "                return False, print('Point [{:.1f}, {:.1f}] lies outside square' .format(self.x_,  self.y_))  \n",
    "   \n",
    "    def fitsInsideSquare(self, radius_):   \n",
    "        if Circle(radius_).getArea() > self.getArea():\n",
    "            return True, print('Circle does not fit in square')\n",
    "        else:\n",
    "             return False, print('Circle does fit in square')"
   ]
  },
  {
   "cell_type": "code",
   "execution_count": 398,
   "metadata": {},
   "outputs": [],
   "source": [
    "def siev(int=n):    \n",
    "    \"\"\"Sieves of Eratosthenes without boolean approach\n",
    "       siev(int=n) n --> range from 2:n:1\n",
    "       Idea: https://www.python-course.eu/numpy_masking.php\n",
    "    \"\"\"\n",
    "    import numpy as np\n",
    "\n",
    "    # Create array with numbers from 2 to n \n",
    "    numbers_ = list(range(2, n+1))\n",
    "    \n",
    "    # For n < && == 4\n",
    "    # Delete 0 and 1 as not primes if n > 4\n",
    "    if n ==4:\n",
    "        del numbers_[2]\n",
    "    elif n >4:\n",
    "        del numbers_[0]\n",
    "        del numbers_[1]    \n",
    "\n",
    "    # Delete higher multiples (sieve of Eratosthenes)\n",
    "    nmax_ = len(numbers_)\n",
    "    for i in range(2, nmax_):\n",
    "        del numbers_[2*i::i]\n",
    "        \n",
    "    return n, numbers_    "
   ]
  },
  {
   "cell_type": "code",
   "execution_count": 390,
   "metadata": {},
   "outputs": [
    {
     "name": "stdout",
     "output_type": "stream",
     "text": [
      "Area:  200.96\n",
      "Perimeter:  50.24\n",
      "Point [2.0, 3.0] lies inside circle\n",
      "Square does fit in circle\n"
     ]
    },
    {
     "data": {
      "text/plain": [
       "(False, None)"
      ]
     },
     "execution_count": 390,
     "metadata": {},
     "output_type": "execute_result"
    },
    {
     "data": {
      "image/png": "[encoded data removed]",
      "text/plain": [
       "<Figure size 432x288 with 1 Axes>"
      ]
     },
     "metadata": {
      "needs_background": "light"
     },
     "output_type": "display_data"
    }
   ],
   "source": [
    "circ = Circle(8)\n",
    "print('Area: ', circ.getArea())\n",
    "print('Perimeter: ', circ.getPerimeter())\n",
    "circ.isInside(2,3, plot_=True)\n",
    "circ.fitsInsideCircle(.1)"
   ]
  },
  {
   "cell_type": "code",
   "execution_count": 391,
   "metadata": {},
   "outputs": [
    {
     "name": "stdout",
     "output_type": "stream",
     "text": [
      "Area:  400\n",
      "Perimeter:  80\n",
      "Point [8.0, 6.0] lies inside square\n",
      "Circle does fit in square\n"
     ]
    },
    {
     "data": {
      "text/plain": [
       "(False, None)"
      ]
     },
     "execution_count": 391,
     "metadata": {},
     "output_type": "execute_result"
    },
    {
     "data": {
      "image/png": "[encoded data removed]",
      "text/plain": [
       "<Figure size 432x288 with 1 Axes>"
      ]
     },
     "metadata": {
      "needs_background": "light"
     },
     "output_type": "display_data"
    }
   ],
   "source": [
    "sq = Square(20)\n",
    "print('Area: ', sq.getArea())\n",
    "print('Perimeter: ', sq.getPerimeter())\n",
    "sq.isInside(8,6, plot_=True)\n",
    "sq.fitsInsideSquare(1)"
   ]
  },
  {
   "cell_type": "code",
   "execution_count": 404,
   "metadata": {},
   "outputs": [
    {
     "name": "stdout",
     "output_type": "stream",
     "text": [
      "Primes in Range from 2 to 10 \n",
      "[3, 5, 6, 7, 9]\n"
     ]
    }
   ],
   "source": [
    "n, primes = siev(5)\n",
    "print('Primes in Range from 2 to {:.0f} ' .format(n))\n",
    "print(primes)"
   ]
  },
  {
   "cell_type": "code",
   "execution_count": null,
   "metadata": {},
   "outputs": [],
   "source": []
  }
 ],
 "metadata": {
  "kernelspec": {
   "display_name": "PyCharm (04_Thesis)",
   "language": "python",
   "name": "pycharm-f81ea094"
  },
  "language_info": {
   "codemirror_mode": {
    "name": "ipython",
    "version": 3
   },
   "file_extension": ".py",
   "mimetype": "text/x-python",
   "name": "python",
   "nbconvert_exporter": "python",
   "pygments_lexer": "ipython3",
   "version": "3.7.4"
  },
  "varInspector": {
   "cols": {
    "lenName": 16,
    "lenType": 16,
    "lenVar": 40
   },
   "kernels_config": {
    "python": {
     "delete_cmd_postfix": "",
     "delete_cmd_prefix": "del ",
     "library": "var_list.py",
     "varRefreshCmd": "print(var_dic_list())"
    },
    "r": {
     "delete_cmd_postfix": ") ",
     "delete_cmd_prefix": "rm(",
     "library": "var_list.r",
     "varRefreshCmd": "cat(var_dic_list()) "
    }
   },
   "types_to_exclude": [
    "module",
    "function",
    "builtin_function_or_method",
    "instance",
    "_Feature"
   ],
   "window_display": false
  }
 },
 "nbformat": 4,
 "nbformat_minor": 4
}
