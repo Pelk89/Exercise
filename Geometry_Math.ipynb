{
 "cells": [
  {
   "cell_type": "code",
   "execution_count": 319,
   "metadata": {},
   "outputs": [
    {
     "ename": "SyntaxError",
     "evalue": "invalid syntax (<ipython-input-319-883299f3f930>, line 1)",
     "output_type": "error",
     "traceback": [
      "\u001b[1;36m  File \u001b[1;32m\"<ipython-input-319-883299f3f930>\"\u001b[1;36m, line \u001b[1;32m1\u001b[0m\n\u001b[1;33m    [![Binder](https://mybinder.org/badge_logo.svg)](https://mybinder.org/v2/gh/Pelk89/Math_Geometry/master)\u001b[0m\n\u001b[1;37m     ^\u001b[0m\n\u001b[1;31mSyntaxError\u001b[0m\u001b[1;31m:\u001b[0m invalid syntax\n"
     ]
    }
   ],
   "source": [
    "[![Binder](https://mybinder.org/badge_logo.svg)](https://mybinder.org/v2/gh/Pelk89/Math_Geometry/master)"
   ]
  },
  {
   "cell_type": "code",
   "execution_count": 312,
   "metadata": {},
   "outputs": [],
   "source": [
    "class Circle(Square):\n",
    "    \n",
    "    def __init__(self, r_):\n",
    "        self.radius_ = r_\n",
    "        \n",
    "    def getPerimeter(self):\n",
    "        return 2*self.radius_*3.14\n",
    "\n",
    "    def getArea(self):\n",
    "        return self.radius_**2*3.14  \n",
    "            \n",
    "    def plot_circle(self):\n",
    "        from matplotlib.patches import Circle\n",
    "        import matplotlib.pyplot as plt\n",
    "\n",
    "        fig_, ax_ = plt.subplots(1)\n",
    "        circle_ = Circle((self.x_coord_circle_ ,self.y_coord_circle_),\n",
    "                         self.radius_, facecolor='None', edgecolor='r')\n",
    "        ax_.add_patch(circle_)\n",
    "        plt.axis(\"equal\")\n",
    "        plt.scatter(self.x_ ,self.y_ )\n",
    "        plt.grid(linestyle='--')\n",
    "    \n",
    "    def isInside(self, x_, y_, x_coord_circle_=0, y_coord_circle_=0, plot_=True):\n",
    "        self.x_ = x_\n",
    "        self.y_ = y_\n",
    "        self.plot_ = plot_\n",
    "        self.x_coord_circle_ = x_coord_circle_\n",
    "        self.y_coord_circle_ = y_coord_circle_        \n",
    "        d_dist_center_x_ = self.x_ - self.x_coord_circle_\n",
    "        d_dist_center_y_ = self.y_ - self.y_coord_circle_\n",
    "\n",
    "        \n",
    "\n",
    "        # Formula Pythagoras: a^2 + b^2 = c^2 \n",
    "        # Distance Center = radius\n",
    "        # radius**2 == c^2 --> point inside circle \n",
    "        # Source = https://www.youtube.com/watch?v=S6BHQMk8C_A        \n",
    "        if ((d_dist_center_x_**2 + d_dist_center_y_**2) <= self.radius_**2):\n",
    "            if self.plot_ == True:\n",
    "                self.plot_circle()                \n",
    "            return True, print('Point [{:.1f}, {:.1f}] lies inside circle'.format(self.x_,  self.y_)) \n",
    "        else:\n",
    "            if self.plot_ == True:\n",
    "                self.plot_circle()\n",
    "            return False, print('Point [{:.1f}, {:.1f}] lies outside circle' .format(self.x_,  self.y_))\n",
    "        \n",
    "    def fitsInsideCircle(self, length_):       \n",
    "        if Square(length_).getArea() > self.getArea():\n",
    "            return True, print('Square does not fit in circle')\n",
    "        else:\n",
    "             return False, print('Square does fit in circle')\n",
    "        \n",
    "        \n",
    "        "
   ]
  },
  {
   "cell_type": "code",
   "execution_count": 313,
   "metadata": {},
   "outputs": [],
   "source": [
    "class Square(Circle):\n",
    "    \n",
    "    def __init__(self, l_):\n",
    "        self.length_ = l_\n",
    "        \n",
    "    def getPerimeter(self):\n",
    "        return self.length_*4\n",
    "\n",
    "    def getArea(self):\n",
    "        return self.length_**2\n",
    "            \n",
    "    def plot_square(self):\n",
    "        from matplotlib.patches import Rectangle\n",
    "        import matplotlib.pyplot as plt\n",
    "\n",
    "        fig_, ax_ = plt.subplots(1)\n",
    "        rectangle_ = Rectangle((self.x_coord_square_ ,self.y_coord_square_),width=self.length_, height=self.length_,\n",
    "                               edgecolor='r',facecolor='none')\n",
    "        \n",
    "        ax_.add_patch(rectangle_)\n",
    "        plt.axis(\"equal\")\n",
    "        plt.scatter(self.x_ ,self.y_ )\n",
    "        plt.grid(linestyle='--')\n",
    "    \n",
    "    def isInside(self, x_, y_, x_coord_square_=0, y_coord_square_=0, plot_=True):\n",
    "        import numpy as np\n",
    "  \n",
    "        self.x_ = x_\n",
    "        self.y_ = y_\n",
    "        self.plot_ = plot_\n",
    "        self.x_coord_square_ = x_coord_square_ \n",
    "        self.y_coord_square_ = y_coord_square_ \n",
    "        \n",
    "        \n",
    "        x1_bt_left_ = self.x_coord_square_ - 0.5*self.length_\n",
    "        y1_bt_left_ = self.y_coord_square_ - 0.5*self.length_        \n",
    "        x2_tp_right_ = self.x_coord_square_ + 0.5*self.length_\n",
    "        y2_tp_right_ = self.y_coord_square_ + 0.5*self.length_\n",
    "        \n",
    "        \n",
    "        # Point lies within Square if x-coord, y-coord lies within range of \n",
    "        # [x1_bt_left_, y1_bt_left_] and[x2_tp_right_, y2_tp_right_]\n",
    "        # Source = https://www.geeksforgeeks.org/check-if-a-point-lies-on-or-inside-a-rectangle-set-2/ \n",
    "             \n",
    "        \n",
    "        if (self.x_ > x1_bt_left_ and self.x_ < x2_tp_right_ and \n",
    "            self.y_  > y1_bt_left_ and self.y_ < y2_tp_right_):\n",
    "            if self.plot_ == True:\n",
    "                self.plot_square() \n",
    "            return True, print('Point [{:.1f}, {:.1f}] lies inside square'.format(self.x_,  self.y_))               \n",
    "        else :\n",
    "            if self.plot_ == True:\n",
    "                self.plot_square() \n",
    "                return False, print('Point [{:.1f}, {:.1f}] lies outside square' .format(self.x_,  self.y_))  \n",
    "   \n",
    "    def fitsInsideSquare(self, radius_):   \n",
    "        if Circle(radius_).getArea() > self.getArea():\n",
    "            return True, print('Circle does not fit in square')\n",
    "        else:\n",
    "             return False, print('Circle does fit in square')"
   ]
  },
  {
   "cell_type": "code",
   "execution_count": 316,
   "metadata": {},
   "outputs": [
    {
     "name": "stdout",
     "output_type": "stream",
     "text": [
      "Square does fit in circle\n"
     ]
    },
    {
     "data": {
      "text/plain": [
       "(False, None)"
      ]
     },
     "execution_count": 316,
     "metadata": {},
     "output_type": "execute_result"
    }
   ],
   "source": [
    "NewCircle = Circle(8)\n",
    "# print(NewCircle.getArea())\n",
    "# print(NewCircle.getPerimeter())\n",
    "# NewCircle.isInside(2,3, plot_=True)\n",
    "NewCircle.fitsInsideCircle(.1)"
   ]
  },
  {
   "cell_type": "code",
   "execution_count": 317,
   "metadata": {},
   "outputs": [
    {
     "name": "stdout",
     "output_type": "stream",
     "text": [
      "Circle does not fit in square\n"
     ]
    },
    {
     "data": {
      "text/plain": [
       "(True, None)"
      ]
     },
     "execution_count": 317,
     "metadata": {},
     "output_type": "execute_result"
    }
   ],
   "source": [
    "sq = Square(1)\n",
    "# print(sq.getArea())\n",
    "# print(sq.getPerimeter())\n",
    "# sq.isInside(-8,6, plot_=True)\n",
    "sq.fitsInsideSquare(1)"
   ]
  },
  {
   "cell_type": "code",
   "execution_count": 318,
   "metadata": {},
   "outputs": [],
   "source": [
    "def SieveOfEratosthenes(n): \n",
    "      \n",
    "    # Create a boolean array \"prime[0..n]\" and initialize \n",
    "    # all entries it as true. A value in prime[i] will \n",
    "    # finally be false if i is Not a prime, else true. \n",
    "    prime = [True for i in range(n + 1)] \n",
    "    p = 2\n",
    "    while (p * p <= n): \n",
    "          \n",
    "        # If prime[p] is not changed, then it is a prime \n",
    "        if (prime[p] == True):               \n",
    "            # Update all multiples of p \n",
    "            for i in range(p * 2, n + 1, p): \n",
    "                prime[i] = False\n",
    "        p += 1\n",
    "    prime[0]= False\n",
    "    prime[1]= False\n",
    "    # Print all prime numbers \n",
    "    for p in range(n + 1): \n",
    "        if prime[p]: \n",
    "            print (p) "
   ]
  },
  {
   "cell_type": "code",
   "execution_count": 259,
   "metadata": {},
   "outputs": [
    {
     "name": "stdout",
     "output_type": "stream",
     "text": [
      "2\n",
      "3\n",
      "5\n",
      "7\n",
      "11\n",
      "13\n",
      "17\n",
      "19\n",
      "23\n",
      "29\n",
      "31\n",
      "37\n",
      "41\n",
      "43\n",
      "47\n",
      "53\n",
      "59\n",
      "61\n",
      "67\n",
      "71\n",
      "73\n",
      "79\n",
      "83\n",
      "89\n",
      "97\n"
     ]
    }
   ],
   "source": [
    "SieveOfEratosthenes(100)"
   ]
  },
  {
   "cell_type": "code",
   "execution_count": null,
   "metadata": {},
   "outputs": [],
   "source": []
  }
 ],
 "metadata": {
  "kernelspec": {
   "display_name": "PyCharm (04_Thesis)",
   "language": "python",
   "name": "pycharm-f81ea094"
  },
  "language_info": {
   "codemirror_mode": {
    "name": "ipython",
    "version": 3
   },
   "file_extension": ".py",
   "mimetype": "text/x-python",
   "name": "python",
   "nbconvert_exporter": "python",
   "pygments_lexer": "ipython3",
   "version": "3.7.4"
  },
  "varInspector": {
   "cols": {
    "lenName": 16,
    "lenType": 16,
    "lenVar": 40
   },
   "kernels_config": {
    "python": {
     "delete_cmd_postfix": "",
     "delete_cmd_prefix": "del ",
     "library": "var_list.py",
     "varRefreshCmd": "print(var_dic_list())"
    },
    "r": {
     "delete_cmd_postfix": ") ",
     "delete_cmd_prefix": "rm(",
     "library": "var_list.r",
     "varRefreshCmd": "cat(var_dic_list()) "
    }
   },
   "types_to_exclude": [
    "module",
    "function",
    "builtin_function_or_method",
    "instance",
    "_Feature"
   ],
   "window_display": false
  }
 },
 "nbformat": 4,
 "nbformat_minor": 4
}
